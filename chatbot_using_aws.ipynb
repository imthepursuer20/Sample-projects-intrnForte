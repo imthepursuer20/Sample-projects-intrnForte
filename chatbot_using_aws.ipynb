{
  "nbformat": 4,
  "nbformat_minor": 0,
  "metadata": {
    "colab": {
      "provenance": [],
      "authorship_tag": "ABX9TyNB//PahKKYnutPbkaTpuyq",
      "include_colab_link": true
    },
    "kernelspec": {
      "name": "python3",
      "display_name": "Python 3"
    },
    "language_info": {
      "name": "python"
    }
  },
  "cells": [
    {
      "cell_type": "markdown",
      "metadata": {
        "id": "view-in-github",
        "colab_type": "text"
      },
      "source": [
        "<a href=\"https://colab.research.google.com/github/imthepursuer20/Sample-projects-intrnForte/blob/main/chatbot_using_aws.ipynb\" target=\"_parent\"><img src=\"https://colab.research.google.com/assets/colab-badge.svg\" alt=\"Open In Colab\"/></a>"
      ]
    },
    {
      "cell_type": "code",
      "execution_count": 7,
      "metadata": {
        "colab": {
          "base_uri": "https://localhost:8080/"
        },
        "id": "yuwS5W8n_D3S",
        "outputId": "ae9cd368-4f5e-4a13-f0fe-8e8133d4eb22"
      },
      "outputs": [
        {
          "output_type": "stream",
          "name": "stdout",
          "text": [
            "Requirement already satisfied: boto3 in /usr/local/lib/python3.10/dist-packages (1.35.96)\n",
            "Requirement already satisfied: botocore<1.36.0,>=1.35.96 in /usr/local/lib/python3.10/dist-packages (from boto3) (1.35.96)\n",
            "Requirement already satisfied: jmespath<2.0.0,>=0.7.1 in /usr/local/lib/python3.10/dist-packages (from boto3) (1.0.1)\n",
            "Requirement already satisfied: s3transfer<0.11.0,>=0.10.0 in /usr/local/lib/python3.10/dist-packages (from boto3) (0.10.4)\n",
            "Requirement already satisfied: python-dateutil<3.0.0,>=2.1 in /usr/local/lib/python3.10/dist-packages (from botocore<1.36.0,>=1.35.96->boto3) (2.8.2)\n",
            "Requirement already satisfied: urllib3!=2.2.0,<3,>=1.25.4 in /usr/local/lib/python3.10/dist-packages (from botocore<1.36.0,>=1.35.96->boto3) (2.3.0)\n",
            "Requirement already satisfied: six>=1.5 in /usr/local/lib/python3.10/dist-packages (from python-dateutil<3.0.0,>=2.1->botocore<1.36.0,>=1.35.96->boto3) (1.17.0)\n",
            "Welcome to the chatbot! Type 'quit' to exit.\n",
            "You: quit\n",
            "Goodbye!\n"
          ]
        }
      ],
      "source": [
        "!pip install boto3 # Install the boto3 library using pip\n",
        "import boto3 # Now you should be able to import boto3 without error\n",
        "from botocore.exceptions import ClientError\n",
        "import nltk\n",
        "from nltk.stem import WordNetLemmatizer\n",
        "import datetime\n",
        "import dateutil.parser\n",
        "\n",
        "# Initialize AWS clients\n",
        "# Specify your desired AWS region here\n",
        "lex_client = boto3.client('lex-runtime', region_name='your-aws-region') # For example: 'us-east-1', 'us-west-2', etc.\n",
        "\n",
        "# Load your trained model (if applicable)\n",
        "# ...\n",
        "\n",
        "def get_bot_response(user_input):\n",
        "    \"\"\"\n",
        "    Gets a response from the chatbot.\n",
        "\n",
        "    Args:\n",
        "          user_inout: The user's input text.\n",
        "\n",
        "    Returns:\n",
        "          The chatbot's response.\n",
        "    \"\"\"\n",
        "\n",
        "    # 1. Preprocess user input\n",
        "    #    -Tokenize (split into words)\n",
        "    #    - Lowercase\n",
        "    #    - Remove punctuation\n",
        "    #    - lemmatization (reduce words to their root form)\n",
        "    #    - (optional) Stemmimg (reduce words to their root)\n",
        "\n",
        "    # 2. Intent Recognition (using your chosen method)\n",
        "    #    - Use NLTK for basic rule-based matching or keyword extraction.\n",
        "    #    - Use more advanced models (spaCy, Transformers) for more sophiscated intent understanding.\n",
        "\n",
        "    # 3. Call Amazon Lex\n",
        "\n",
        "    try:\n",
        "\n",
        "         response = lex_client.post_text(\n",
        "              BotName='YOurBotName',\n",
        "              UserId='user_Id',\n",
        "              InputText=user_input\n",
        "         )\n",
        "         return response['Message']\n",
        "\n",
        "    except ClientError as e:\n",
        "         print(f\"Error interacting with Lex: {e}\")\n",
        "         return \"I'm having trouble understanding. Can you please rephrase?\"\n",
        "\n",
        "    # 4. Handle specific intents (e.g., 'Getweather', 'OrderPizza')\n",
        "    #    - If intent is recognised, call appropriate functions.\n",
        "\n",
        "    # 5. Generate response based on intent and user input.\n",
        "\n",
        "if __name__ == \"__main__\":\n",
        "    print(\"Welcome to the chatbot! Type 'quit' to exit.\")\n",
        "    while True:\n",
        "\n",
        "          user_input = input(\"You: \")\n",
        "\n",
        "          if user_input.lower() == 'quit':\n",
        "              print(\"Goodbye!\")\n",
        "\n",
        "              break\n",
        "\n",
        "          bot_respose = get_bot_response(user_input)\n",
        "\n",
        "          print(\"Bot:\", bot_response)"
      ]
    }
  ]
}