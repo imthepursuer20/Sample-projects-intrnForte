{
  "nbformat": 4,
  "nbformat_minor": 0,
  "metadata": {
    "colab": {
      "provenance": [],
      "authorship_tag": "ABX9TyMC+Y2l+UlrAbZPB0PuQGYP",
      "include_colab_link": true
    },
    "kernelspec": {
      "name": "python3",
      "display_name": "Python 3"
    },
    "language_info": {
      "name": "python"
    }
  },
  "cells": [
    {
      "cell_type": "markdown",
      "metadata": {
        "id": "view-in-github",
        "colab_type": "text"
      },
      "source": [
        "<a href=\"https://colab.research.google.com/github/imthepursuer20/Sample-projects-intrnForte/blob/main/Libmanagesys.ipynb\" target=\"_parent\"><img src=\"https://colab.research.google.com/assets/colab-badge.svg\" alt=\"Open In Colab\"/></a>"
      ]
    },
    {
      "cell_type": "code",
      "source": [
        "#library management system\n",
        "\n",
        "#list of books in the library\n",
        "books = [\"Python Basics\", \"Data Structures\", \"AI for beginners\", \"Web Development\", \"Machine Learning\"]\n",
        "\n",
        "#Dictionary to track borrowed books\n",
        "borrowed_books = {}\n",
        "\n",
        "\"\"\"Function to display available books\"\"\"\n",
        "def display_books():\n",
        "    print(\"Available Books:\")\n",
        "    for idx, book_name in enumerate(books, start=1):\n",
        "        print(f\"{idx}. {book_name}\")\n",
        "\n",
        "def borrow_book():\n",
        "    \"\"\"function to borrow a book\"\"\"\n",
        "    display_books()\n",
        "    choice = int(input(\"Enter the index of the book you want to borrow: \")) - 1\n",
        "    if 0 <= choice < len(books):\n",
        "        book_name = books.pop(choice)\n",
        "        user_name = input(\"Enter your name: \")\n",
        "        borrowed_books[user_name] = book_name\n",
        "        if book_name not in borrowed_books:\n",
        "            borrowed_books[book_name] = 1\n",
        "            print(f\"{user_name} has borrowed '{book_name}'.\")\n",
        "    else:\n",
        "        print(\"Invalid choice. Please select a valid book index.\")\n",
        "def return_book():\n",
        "    \"\"\"function to return a book\"\"\"\n",
        "    user_name = input(\"Enter your name: \")\n",
        "    if user_name in borrowed_books:\n",
        "        book_name = borrowed_books.pop(user_name)\n",
        "        books.append(book_name)\n",
        "        print(f\"{user_name} has returned '{book_name}'.\")\n",
        "    else:\n",
        "        print(f\"{user_name} has not borrowed any books.\")\n",
        "\n",
        "def main():\n",
        "    \"\"\"function to run the library management system\"\"\"\n",
        "    while True:\n",
        "        print(\"\\n Library Management System\")\n",
        "        print(\"1. Display Books\")\n",
        "        print(\"2. Borrow Book\")\n",
        "        print(\"3. Return Book\")\n",
        "        print(\"4. Exit\")\n",
        "\n",
        "        choice = input(\"Enter your choice (1/2/3/4): \")\n",
        "        if choice == \"1\":\n",
        "            display_books()\n",
        "        elif choice == \"2\":\n",
        "            borrow_book()\n",
        "        elif choice == \"3\":\n",
        "            return_book()\n",
        "        elif choice == \"4\":\n",
        "            print(\"Thank you for using the Library Management System. Goodbye!\")\n",
        "            break\n",
        "        else:\n",
        "            print(\"Invalid choice. Please select a valid option (1/2/3/4).\")\n",
        "\n",
        "if __name__ == \"__main__\":\n",
        "    main()\n",
        "\n",
        ""
      ],
      "metadata": {
        "colab": {
          "base_uri": "https://localhost:8080/"
        },
        "id": "wzFy63OGGvdU",
        "outputId": "108fcdff-db03-4939-a2e7-4956c4b0d902"
      },
      "execution_count": 2,
      "outputs": [
        {
          "output_type": "stream",
          "name": "stdout",
          "text": [
            "\n",
            " Library Management System\n",
            "1. Display Books\n",
            "2. Borrow Book\n",
            "3. Return Book\n",
            "4. Exit\n",
            "Enter your choice (1/2/3/4): 2\n",
            "Available Books:\n",
            "1. Python Basics\n",
            "2. Data Structures\n",
            "3. AI for beginners\n",
            "4. Web Development\n",
            "5. Machine Learning\n",
            "Enter the index of the book you want to borrow: 5\n",
            "Enter your name: Hari\n",
            "Hari has borrowed 'Machine Learning'.\n",
            "\n",
            " Library Management System\n",
            "1. Display Books\n",
            "2. Borrow Book\n",
            "3. Return Book\n",
            "4. Exit\n",
            "Enter your choice (1/2/3/4): 1\n",
            "Available Books:\n",
            "1. Python Basics\n",
            "2. Data Structures\n",
            "3. AI for beginners\n",
            "4. Web Development\n",
            "\n",
            " Library Management System\n",
            "1. Display Books\n",
            "2. Borrow Book\n",
            "3. Return Book\n",
            "4. Exit\n",
            "Enter your choice (1/2/3/4): 4\n",
            "Thank you for using the Library Management System. Goodbye!\n"
          ]
        }
      ]
    }
  ]
}