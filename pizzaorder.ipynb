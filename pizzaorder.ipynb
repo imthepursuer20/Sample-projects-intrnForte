{
  "nbformat": 4,
  "nbformat_minor": 0,
  "metadata": {
    "colab": {
      "provenance": [],
      "authorship_tag": "ABX9TyM4iC5rH7u++GELcFMbhcq7",
      "include_colab_link": true
    },
    "kernelspec": {
      "name": "python3",
      "display_name": "Python 3"
    },
    "language_info": {
      "name": "python"
    }
  },
  "cells": [
    {
      "cell_type": "markdown",
      "metadata": {
        "id": "view-in-github",
        "colab_type": "text"
      },
      "source": [
        "<a href=\"https://colab.research.google.com/github/imthepursuer20/Sample-projects-intrnForte/blob/main/pizzaorder.ipynb\" target=\"_parent\"><img src=\"https://colab.research.google.com/assets/colab-badge.svg\" alt=\"Open In Colab\"/></a>"
      ]
    },
    {
      "cell_type": "code",
      "execution_count": null,
      "metadata": {
        "colab": {
          "base_uri": "https://localhost:8080/"
        },
        "id": "r3EjtQUAbZWy",
        "outputId": "61b07a2f-db94-488e-bce4-b7222fb481b6"
      },
      "outputs": [
        {
          "output_type": "stream",
          "name": "stdout",
          "text": [
            "Welcome to the pizza palace!\n",
            "Menu:\n",
            "1. Margherita\n",
            "2. pepperoni\n",
            "3. cheese corn\n",
            "Enter your choice:3\n",
            "order confirmed\n"
          ]
        }
      ],
      "source": [
        "import random\n",
        "\n",
        "\n",
        "def get_user_choice(options):\n",
        "    \"\"\"\n",
        "    Gets user input and validates it against provided options\n",
        "\n",
        "    Args:\n",
        "        options: A list of valid options.\n",
        "\n",
        "    Returns:\n",
        "        The user's valid choice.\n",
        "    \"\"\"\n",
        "    while True:\n",
        "        user_input = input(\"Enter your choice:\").lower()\n",
        "        if user_input in options:\n",
        "            return user_input\n",
        "        else:\n",
        "            print(f\"Invalid choice. Please select from: {', '.join(options)}\")\n",
        "\n",
        "\n",
        "def order_pizza():\n",
        "    \"\"\"\n",
        "    Handles the pizza ordering process.\n",
        "    \"\"\"\n",
        "    print(\"Welcome to the pizza palace!\")\n",
        "    print(\"Menu:\")\n",
        "    print(\"1. Margherita\")\n",
        "    print(\"2. pepperoni\")\n",
        "    print(\"3. cheese corn\")\n",
        "\n",
        "    pizza_choices = [\"1\", \"2\", \"3\"]\n",
        "    pizza_choice = get_user_choice(pizza_choices)\n",
        "\n",
        "    if pizza_choice == \"1\":\n",
        "        pizza = \"margherita\"\n",
        "    elif pizza_choice == \"2\":\n",
        "        pizza = \"pepperoni\"\n",
        "    else:\n",
        "        pizza = \"cheese corn\"\n",
        "\n",
        "    print(\"order confirmed\")\n",
        "\n",
        "\n",
        "if __name__ == \"__main__\":\n",
        "    order_pizza()"
      ]
    }
  ]
}